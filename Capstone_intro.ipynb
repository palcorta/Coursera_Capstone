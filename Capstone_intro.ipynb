{
 "cells": [
  {
   "cell_type": "markdown",
   "metadata": {},
   "source": [
    "#  IBM Data Science Capstone"
   ]
  },
  {
   "cell_type": "markdown",
   "metadata": {},
   "source": [
    "## Peio Alcorta"
   ]
  },
  {
   "cell_type": "markdown",
   "metadata": {},
   "source": [
    "### 1. Introduction"
   ]
  },
  {
   "cell_type": "markdown",
   "metadata": {},
   "source": [
    "In this project, we will be working on a case study which is to predict the severity of an accident.   \n",
    "\n",
    "A car accident occurs every 4 minutes and on average and a person dies due to a car accident almost every 20 hours in the state of Washington, while lethal crashes went from 508 in 2016 to 525 in 2017, resulting in the death of 555 people. Our purpose is to develop an algorithm which given the weather and the road conditions, among some other features, predicts the probability of getting into a car accident and how severe it would be so that it encourages the driver to drive more carefully or even change the travel if possible.   \n",
    "\n",
    "\n",
    "\n"
   ]
  }
 ],
 "metadata": {
  "kernelspec": {
   "display_name": "Python 3",
   "language": "python",
   "name": "python3"
  },
  "language_info": {
   "codemirror_mode": {
    "name": "ipython",
    "version": 3
   },
   "file_extension": ".py",
   "mimetype": "text/x-python",
   "name": "python",
   "nbconvert_exporter": "python",
   "pygments_lexer": "ipython3",
   "version": "3.8.3"
  }
 },
 "nbformat": 4,
 "nbformat_minor": 4
}
