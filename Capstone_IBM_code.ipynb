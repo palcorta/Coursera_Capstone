{
 "cells": [
  {
   "cell_type": "markdown",
   "metadata": {},
   "source": [
    "#  IBM Data Science Capstone\n",
    "## Predicting Car Accident Severity   \n",
    "## Peio Alcorta"
   ]
  },
  {
   "cell_type": "markdown",
   "metadata": {},
   "source": [
    "### 1. Introduction"
   ]
  },
  {
   "cell_type": "markdown",
   "metadata": {},
   "source": [
    "In this project, we will be working on a case study which is to predict the severity of an accident.   \n",
    "\n",
    "A car accident occurs every 4 minutes and on average and a person dies due to a car accident almost every 20 hours in the state of Washington, while lethal crashes went from 508 in 2016 to 525 in 2017, resulting in the death of 555 people. Our purpose is to develop an algorithm which given the weather and the road conditions, among some other features, predicts the probability of getting into a car accident and how severe it would be so that it encourages the driver to drive more carefully or even change the travel if possible.   \n",
    "\n",
    "\n",
    "\n"
   ]
  },
  {
   "cell_type": "markdown",
   "metadata": {},
   "source": [
    "### 2. Data"
   ]
  },
  {
   "cell_type": "markdown",
   "metadata": {},
   "source": [
    "#### 2.1 Data Understanding"
   ]
  },
  {
   "cell_type": "markdown",
   "metadata": {},
   "source": [
    "The dataset used for this project is based on car accidents which have taken place within the city of Seattle, Washington from the year 2004 to 2020. This data is regarding car accidents the severity of each car accidents along with the time and conditions under which each accident occurred. The data set used for this project can be downloaded from:  \n",
    "\n",
    "\n",
    "https://s3.us.cloud-object-storage.appdomain.cloud/cf-courses-data/CognitiveClass/DP0701EN/version-2/Data-Collisions.csv  \n",
    "\n",
    "The Metadata of the data can be found here:  \n",
    "\n",
    "https://s3.us.cloud-object-storage.appdomain.cloud/cf-courses-data/CognitiveClass/DP0701EN/version-2/Metadata.pdf  \n",
    "\n",
    "The original dataset contains 194,673 rows, one for each traffic accident, and 38 columns, which encode several aspects of each accident, such as, location, severity, weather condition...   \n",
    "\n",
    "The aim of this project is to develop a Machine Learning algorithm that predicts the severity of an accident. For that purpose, we will use the variable *SEVERITYCODE* which encodes the severity of the accident by giving value 1 if the accident entailed property damage only, and 2 if it entailed physical or health damage too.  \n",
    "\n",
    "\n"
   ]
  },
  {
   "cell_type": "markdown",
   "metadata": {},
   "source": [
    "#### 2.2 Data Preparation"
   ]
  },
  {
   "cell_type": "markdown",
   "metadata": {},
   "source": [
    "Appart from the severity code, a total of 6 variables (columns) are selected from the dataset. Apart from the severity code, a total of 6 variables (columns) are selected from the dataset. We restrict our attention to just those variables which we believe will have predictive power on the severity of the accident. These variables comprise both external conditions (weather, road, lighting), as well as human conditions (speed, drugs, inattention):  \n"
   ]
  },
  {
   "cell_type": "markdown",
   "metadata": {},
   "source": [
    "Variable | Description\n",
    "---------|------------\n",
    "WEATHER | Weather conditions (Overcast/ Raining/ Clear...)\n",
    "LIGHTCOND | Light conditions  (Dawn/ Daylight/ Dark...)\n",
    "ROADCOND | Road condition (Wet/ Dry/ Ice ...)\n",
    "ADDRTYPE | Collision address type (Alley/ Block/ Intersection)\n",
    "INATTENTIONIND | The driver was inattentive (Yes/No/Unknown)\n",
    "SPEEDING | The car was above the speed limit (Yes/No/Unknown)\n",
    "UNDERINFL | The driver was under the influence (Yes/No/Unknown)  \n",
    "\n",
    "\n"
   ]
  },
  {
   "cell_type": "markdown",
   "metadata": {},
   "source": [
    "### 3. Methodology"
   ]
  },
  {
   "cell_type": "markdown",
   "metadata": {},
   "source": [
    "#### 3.1 Data preparation and visualization"
   ]
  },
  {
   "cell_type": "markdown",
   "metadata": {},
   "source": [
    "We begin our project by importing all the necessary packages.  \n"
   ]
  },
  {
   "cell_type": "code",
   "execution_count": 2,
   "metadata": {},
   "outputs": [],
   "source": [
    "import pandas as pd\n",
    "import numpy as np\n",
    "import matplotlib as mpl\n",
    "import matplotlib.pyplot as plt\n",
    "import random\n",
    "from sklearn.model_selection import train_test_split\n",
    "from sklearn.neighbors import KNeighborsClassifier\n",
    "from sklearn.metrics import classification_report\n",
    "from sklearn.tree import DecisionTreeClassifier\n",
    "from sklearn.linear_model import LogisticRegression\n",
    "from sklearn import svm\n",
    "from sklearn.metrics import f1_score\n",
    "from sklearn.metrics import accuracy_score\n",
    "from sklearn import metrics\n",
    "import warnings\n",
    "warnings.filterwarnings('ignore')"
   ]
  },
  {
   "cell_type": "markdown",
   "metadata": {},
   "source": [
    "Next, we import the required data, which is contained in the CSV file \"Data-Collisions.csv\". We visualize the first five rows of the dataset in order to have an approximate idea of how these data look. In addition, we display the dimensions of our dataset.  \n",
    "\n"
   ]
  },
  {
   "cell_type": "code",
   "execution_count": 3,
   "metadata": {},
   "outputs": [
    {
     "data": {
      "text/html": [
       "<div>\n",
       "<style scoped>\n",
       "    .dataframe tbody tr th:only-of-type {\n",
       "        vertical-align: middle;\n",
       "    }\n",
       "\n",
       "    .dataframe tbody tr th {\n",
       "        vertical-align: top;\n",
       "    }\n",
       "\n",
       "    .dataframe thead th {\n",
       "        text-align: right;\n",
       "    }\n",
       "</style>\n",
       "<table border=\"1\" class=\"dataframe\">\n",
       "  <thead>\n",
       "    <tr style=\"text-align: right;\">\n",
       "      <th></th>\n",
       "      <th>SEVERITYCODE</th>\n",
       "      <th>X</th>\n",
       "      <th>Y</th>\n",
       "      <th>OBJECTID</th>\n",
       "      <th>INCKEY</th>\n",
       "      <th>COLDETKEY</th>\n",
       "      <th>REPORTNO</th>\n",
       "      <th>STATUS</th>\n",
       "      <th>ADDRTYPE</th>\n",
       "      <th>INTKEY</th>\n",
       "      <th>...</th>\n",
       "      <th>ROADCOND</th>\n",
       "      <th>LIGHTCOND</th>\n",
       "      <th>PEDROWNOTGRNT</th>\n",
       "      <th>SDOTCOLNUM</th>\n",
       "      <th>SPEEDING</th>\n",
       "      <th>ST_COLCODE</th>\n",
       "      <th>ST_COLDESC</th>\n",
       "      <th>SEGLANEKEY</th>\n",
       "      <th>CROSSWALKKEY</th>\n",
       "      <th>HITPARKEDCAR</th>\n",
       "    </tr>\n",
       "  </thead>\n",
       "  <tbody>\n",
       "    <tr>\n",
       "      <th>0</th>\n",
       "      <td>2</td>\n",
       "      <td>-122.323148</td>\n",
       "      <td>47.703140</td>\n",
       "      <td>1</td>\n",
       "      <td>1307</td>\n",
       "      <td>1307</td>\n",
       "      <td>3502005</td>\n",
       "      <td>Matched</td>\n",
       "      <td>Intersection</td>\n",
       "      <td>37475.0</td>\n",
       "      <td>...</td>\n",
       "      <td>Wet</td>\n",
       "      <td>Daylight</td>\n",
       "      <td>NaN</td>\n",
       "      <td>NaN</td>\n",
       "      <td>NaN</td>\n",
       "      <td>10</td>\n",
       "      <td>Entering at angle</td>\n",
       "      <td>0</td>\n",
       "      <td>0</td>\n",
       "      <td>N</td>\n",
       "    </tr>\n",
       "    <tr>\n",
       "      <th>1</th>\n",
       "      <td>1</td>\n",
       "      <td>-122.347294</td>\n",
       "      <td>47.647172</td>\n",
       "      <td>2</td>\n",
       "      <td>52200</td>\n",
       "      <td>52200</td>\n",
       "      <td>2607959</td>\n",
       "      <td>Matched</td>\n",
       "      <td>Block</td>\n",
       "      <td>NaN</td>\n",
       "      <td>...</td>\n",
       "      <td>Wet</td>\n",
       "      <td>Dark - Street Lights On</td>\n",
       "      <td>NaN</td>\n",
       "      <td>6354039.0</td>\n",
       "      <td>NaN</td>\n",
       "      <td>11</td>\n",
       "      <td>From same direction - both going straight - bo...</td>\n",
       "      <td>0</td>\n",
       "      <td>0</td>\n",
       "      <td>N</td>\n",
       "    </tr>\n",
       "    <tr>\n",
       "      <th>2</th>\n",
       "      <td>1</td>\n",
       "      <td>-122.334540</td>\n",
       "      <td>47.607871</td>\n",
       "      <td>3</td>\n",
       "      <td>26700</td>\n",
       "      <td>26700</td>\n",
       "      <td>1482393</td>\n",
       "      <td>Matched</td>\n",
       "      <td>Block</td>\n",
       "      <td>NaN</td>\n",
       "      <td>...</td>\n",
       "      <td>Dry</td>\n",
       "      <td>Daylight</td>\n",
       "      <td>NaN</td>\n",
       "      <td>4323031.0</td>\n",
       "      <td>NaN</td>\n",
       "      <td>32</td>\n",
       "      <td>One parked--one moving</td>\n",
       "      <td>0</td>\n",
       "      <td>0</td>\n",
       "      <td>N</td>\n",
       "    </tr>\n",
       "    <tr>\n",
       "      <th>3</th>\n",
       "      <td>1</td>\n",
       "      <td>-122.334803</td>\n",
       "      <td>47.604803</td>\n",
       "      <td>4</td>\n",
       "      <td>1144</td>\n",
       "      <td>1144</td>\n",
       "      <td>3503937</td>\n",
       "      <td>Matched</td>\n",
       "      <td>Block</td>\n",
       "      <td>NaN</td>\n",
       "      <td>...</td>\n",
       "      <td>Dry</td>\n",
       "      <td>Daylight</td>\n",
       "      <td>NaN</td>\n",
       "      <td>NaN</td>\n",
       "      <td>NaN</td>\n",
       "      <td>23</td>\n",
       "      <td>From same direction - all others</td>\n",
       "      <td>0</td>\n",
       "      <td>0</td>\n",
       "      <td>N</td>\n",
       "    </tr>\n",
       "    <tr>\n",
       "      <th>4</th>\n",
       "      <td>2</td>\n",
       "      <td>-122.306426</td>\n",
       "      <td>47.545739</td>\n",
       "      <td>5</td>\n",
       "      <td>17700</td>\n",
       "      <td>17700</td>\n",
       "      <td>1807429</td>\n",
       "      <td>Matched</td>\n",
       "      <td>Intersection</td>\n",
       "      <td>34387.0</td>\n",
       "      <td>...</td>\n",
       "      <td>Wet</td>\n",
       "      <td>Daylight</td>\n",
       "      <td>NaN</td>\n",
       "      <td>4028032.0</td>\n",
       "      <td>NaN</td>\n",
       "      <td>10</td>\n",
       "      <td>Entering at angle</td>\n",
       "      <td>0</td>\n",
       "      <td>0</td>\n",
       "      <td>N</td>\n",
       "    </tr>\n",
       "  </tbody>\n",
       "</table>\n",
       "<p>5 rows × 38 columns</p>\n",
       "</div>"
      ],
      "text/plain": [
       "   SEVERITYCODE           X          Y  OBJECTID  INCKEY  COLDETKEY REPORTNO  \\\n",
       "0             2 -122.323148  47.703140         1    1307       1307  3502005   \n",
       "1             1 -122.347294  47.647172         2   52200      52200  2607959   \n",
       "2             1 -122.334540  47.607871         3   26700      26700  1482393   \n",
       "3             1 -122.334803  47.604803         4    1144       1144  3503937   \n",
       "4             2 -122.306426  47.545739         5   17700      17700  1807429   \n",
       "\n",
       "    STATUS      ADDRTYPE   INTKEY  ... ROADCOND                LIGHTCOND  \\\n",
       "0  Matched  Intersection  37475.0  ...      Wet                 Daylight   \n",
       "1  Matched         Block      NaN  ...      Wet  Dark - Street Lights On   \n",
       "2  Matched         Block      NaN  ...      Dry                 Daylight   \n",
       "3  Matched         Block      NaN  ...      Dry                 Daylight   \n",
       "4  Matched  Intersection  34387.0  ...      Wet                 Daylight   \n",
       "\n",
       "  PEDROWNOTGRNT  SDOTCOLNUM SPEEDING ST_COLCODE  \\\n",
       "0           NaN         NaN      NaN         10   \n",
       "1           NaN   6354039.0      NaN         11   \n",
       "2           NaN   4323031.0      NaN         32   \n",
       "3           NaN         NaN      NaN         23   \n",
       "4           NaN   4028032.0      NaN         10   \n",
       "\n",
       "                                          ST_COLDESC  SEGLANEKEY  \\\n",
       "0                                  Entering at angle           0   \n",
       "1  From same direction - both going straight - bo...           0   \n",
       "2                             One parked--one moving           0   \n",
       "3                   From same direction - all others           0   \n",
       "4                                  Entering at angle           0   \n",
       "\n",
       "   CROSSWALKKEY  HITPARKEDCAR  \n",
       "0             0             N  \n",
       "1             0             N  \n",
       "2             0             N  \n",
       "3             0             N  \n",
       "4             0             N  \n",
       "\n",
       "[5 rows x 38 columns]"
      ]
     },
     "execution_count": 3,
     "metadata": {},
     "output_type": "execute_result"
    }
   ],
   "source": [
    "data = pd.read_csv(\"Data-Collisions.csv\")\n",
    "data.head()"
   ]
  },
  {
   "cell_type": "code",
   "execution_count": 4,
   "metadata": {},
   "outputs": [
    {
     "data": {
      "text/plain": [
       "(194673, 38)"
      ]
     },
     "execution_count": 4,
     "metadata": {},
     "output_type": "execute_result"
    }
   ],
   "source": [
    "data.shape"
   ]
  },
  {
   "cell_type": "markdown",
   "metadata": {},
   "source": [
    "As we can see, or data contains 194,673 accidents (rows) and 38 features or variables (columns).   Originally, as we already mentioned, the variable SEVERITYCODE is encoded by giving value 1 if the accident entailed property damage only, and 2 if it entailed physical or health damage too.  For simplicity, we redefine it giving value 0 for no physical damage, and 1 if there are physical damages.  "
   ]
  },
  {
   "cell_type": "code",
   "execution_count": 5,
   "metadata": {},
   "outputs": [],
   "source": [
    "data.loc[data['SEVERITYCODE'] ==1, [\"SEVERITYCODE\"]]=0\n",
    "data.loc[data['SEVERITYCODE'] ==2, [\"SEVERITYCODE\"]]=1"
   ]
  },
  {
   "cell_type": "markdown",
   "metadata": {},
   "source": [
    "The variable UNDERINFL, is originally encoded as Y or 1 if there is evidence that the driver was under the influence, and as N or 0 if not. We again redefine it as 0 (if not under the influence), and as 1 (if under the influence).  "
   ]
  },
  {
   "cell_type": "code",
   "execution_count": 6,
   "metadata": {},
   "outputs": [],
   "source": [
    "data.loc[data['UNDERINFL'] ==\"Y\", [\"UNDERINFL\"]]=1\n",
    "data.loc[data['UNDERINFL'] ==\"1\", [\"UNDERINFL\"]]=1\n",
    "data.loc[data['UNDERINFL'] ==\"N\", [\"UNDERINFL\"]]=0\n",
    "data.loc[data['UNDERINFL'] ==\"0\", [\"UNDERINFL\"]]=0"
   ]
  },
  {
   "cell_type": "markdown",
   "metadata": {},
   "source": [
    "Similarly, we modify the variable SPEEDING, which originally is encoded as Y if there is evidence that the driver was driving above the speed limit, and as missing value if there is a lack of evidence. We redefine it as 0 (if not evidence of speeding), and as 1 (if evidence of speeding)."
   ]
  },
  {
   "cell_type": "code",
   "execution_count": 7,
   "metadata": {},
   "outputs": [],
   "source": [
    "data.loc[pd.notnull(data['SPEEDING']), [\"SPEEDING\"]]=1\n",
    "data.loc[pd.isnull(data['SPEEDING']), [\"SPEEDING\"]]=0"
   ]
  },
  {
   "cell_type": "markdown",
   "metadata": {},
   "source": [
    "We also modify the variable INATTENTIONIND, which originally is encoded as Y if there is evidence that the driver was not paying attention while driving, and as a missing value if there is no such evidence. We again redefine it as 0 (if not evidence of inattention), and as 1 (if evidence of inattention)."
   ]
  },
  {
   "cell_type": "code",
   "execution_count": 8,
   "metadata": {},
   "outputs": [],
   "source": [
    "data.loc[pd.notnull(data['INATTENTIONIND']), [\"INATTENTIONIND\"]]=1\n",
    "data.loc[pd.isnull(data['INATTENTIONIND']), [\"INATTENTIONIND\"]]=0"
   ]
  },
  {
   "cell_type": "markdown",
   "metadata": {},
   "source": [
    "Now, let us work a little bit with the variable ROADCOND (road condition). We substitute the entries for which the road condition appears as \"Unknown\" or \"Other\" for missing values."
   ]
  },
  {
   "cell_type": "code",
   "execution_count": 9,
   "metadata": {},
   "outputs": [],
   "source": [
    "data.loc[data['ROADCOND'] ==\"Unknown\", \"ROADCOND\"] =np.nan\n",
    "data.loc[data['ROADCOND'] ==\"Other\", \"ROADCOND\"] =np.nan"
   ]
  },
  {
   "cell_type": "markdown",
   "metadata": {},
   "source": [
    "Next, we work with the variable LIGHTCOND (lighting conditions). First, we substitute the entries for which the LIGHTCOND appears as \"Unknown\" or \"Other\" for missing values. Next, we gather all the different entries for which conditions were dark without proper lighting (\"Dark - Unknown Lighting\", \"Dark - No Street Lights\", \"Dark - Street Lights Off\") for \"Dark - No Lights\"."
   ]
  },
  {
   "cell_type": "code",
   "execution_count": 10,
   "metadata": {},
   "outputs": [],
   "source": [
    "data.loc[data['LIGHTCOND']==\"Unknown\", \"LIGHTCOND\"]=np.nan\n",
    "data.loc[data['LIGHTCOND'] ==\"Other\", [\"LIGHTCOND\"]]=np.nan\n",
    "data.loc[data['LIGHTCOND'] ==\"Dark - Unknown Lighting\", ['LIGHTCOND']]=\"Dark - No Lights\"\n",
    "data.loc[data['LIGHTCOND'] ==\"Dark - No Street Lights\", ['LIGHTCOND']]=\"Dark - No Lights\"\n",
    "data.loc[data['LIGHTCOND'] ==\"Dark - Street Lights Off\", ['LIGHTCOND']]=\"Dark - No Lights\""
   ]
  },
  {
   "cell_type": "markdown",
   "metadata": {},
   "source": [
    "Then, we replace the entries for which the WEATHER appears as \"Unknown\" or \"Other\" for missing values. In addition, we replace entries for which weather appears as \"Partly Cloudy\" for \"Clear\". Since we do not expect partly cloudy weather to have a different impact on accident severity than clear weather.  \n"
   ]
  },
  {
   "cell_type": "code",
   "execution_count": 11,
   "metadata": {},
   "outputs": [],
   "source": [
    "data.loc[data['WEATHER']  ==\"Unknown\", \"WEATHER\"]  =np.nan\n",
    "data.loc[data['WEATHER'] ==\"Other\", [\"WEATHER\"]]=np.nan\n",
    "data.loc[data['WEATHER'] ==\"Partly Cloudy\", [\"WEATHER\"]]=\"Clear\""
   ]
  },
  {
   "cell_type": "markdown",
   "metadata": {},
   "source": [
    "Finally, we remove all the unnecessary columns in our dataset and we save the new dataset as \"data2\". After that, we remove every row containing any missing values."
   ]
  },
  {
   "cell_type": "code",
   "execution_count": 12,
   "metadata": {},
   "outputs": [],
   "source": [
    "data2=data[[\"SEVERITYCODE\",\"ADDRTYPE\",\"WEATHER\",\"ROADCOND\",\"LIGHTCOND\",\"UNDERINFL\",\"SPEEDING\",\"INATTENTIONIND\"]]"
   ]
  },
  {
   "cell_type": "code",
   "execution_count": 13,
   "metadata": {},
   "outputs": [
    {
     "data": {
      "text/plain": [
       "(169247, 8)"
      ]
     },
     "execution_count": 13,
     "metadata": {},
     "output_type": "execute_result"
    }
   ],
   "source": [
    "data2=data2.dropna()\n",
    "data2.shape"
   ]
  },
  {
   "cell_type": "markdown",
   "metadata": {},
   "source": [
    "As we can see, our new dataset contains 169,247 rows and 8 columns. After removing all the missing values, we have not lost a dramatic amount of information.  \n",
    "\n",
    "Now, let us plot the distributions of each of the variables in our dataset. "
   ]
  },
  {
   "cell_type": "code",
   "execution_count": 14,
   "metadata": {},
   "outputs": [
    {
     "data": {
      "text/plain": [
       "Text(0.5, 1.0, 'SEVERITYCODE')"
      ]
     },
     "execution_count": 14,
     "metadata": {},
     "output_type": "execute_result"
    },
    {
     "data": {
      "image/png": "[encoded data removed]",
      "text/plain": [
       "<Figure size 432x288 with 1 Axes>"
      ]
     },
     "metadata": {
      "needs_background": "light"
     },
     "output_type": "display_data"
    }
   ],
   "source": [
    "data2['SEVERITYCODE'].value_counts().plot(kind='bar')\n",
    "plt.title(\"SEVERITYCODE\")"
   ]
  },
  {
   "cell_type": "code",
   "execution_count": 15,
   "metadata": {},
   "outputs": [
    {
     "data": {
      "text/plain": [
       "Text(0.5, 1.0, 'WEATHER')"
      ]
     },
     "execution_count": 15,
     "metadata": {},
     "output_type": "execute_result"
    },
    {
     "data": {
      "image/png": "[encoded data removed]",
      "text/plain": [
       "<Figure size 432x288 with 1 Axes>"
      ]
     },
     "metadata": {
      "needs_background": "light"
     },
     "output_type": "display_data"
    }
   ],
   "source": [
    "data2['WEATHER'].value_counts().plot(kind='bar')\n",
    "plt.title(\"WEATHER\")"
   ]
  },
  {
   "cell_type": "code",
   "execution_count": 16,
   "metadata": {},
   "outputs": [
    {
     "data": {
      "text/plain": [
       "Text(0.5, 1.0, 'LIGHTCOND')"
      ]
     },
     "execution_count": 16,
     "metadata": {},
     "output_type": "execute_result"
    },
    {
     "data": {
      "image/png": "[encoded data removed]",
      "text/plain": [
       "<Figure size 432x288 with 1 Axes>"
      ]
     },
     "metadata": {
      "needs_background": "light"
     },
     "output_type": "display_data"
    }
   ],
   "source": [
    "data2['LIGHTCOND'].value_counts().plot(kind='bar')\n",
    "plt.title(\"LIGHTCOND\")"
   ]
  },
  {
   "cell_type": "code",
   "execution_count": 17,
   "metadata": {},
   "outputs": [
    {
     "data": {
      "text/plain": [
       "Text(0.5, 1.0, 'ROADCOND')"
      ]
     },
     "execution_count": 17,
     "metadata": {},
     "output_type": "execute_result"
    },
    {
     "data": {
      "image/png": "[encoded data removed]",
      "text/plain": [
       "<Figure size 432x288 with 1 Axes>"
      ]
     },
     "metadata": {
      "needs_background": "light"
     },
     "output_type": "display_data"
    }
   ],
   "source": [
    "data2['ROADCOND'].value_counts().plot(kind='bar')\n",
    "plt.title(\"ROADCOND\")"
   ]
  },
  {
   "cell_type": "code",
   "execution_count": 18,
   "metadata": {},
   "outputs": [
    {
     "data": {
      "text/plain": [
       "Text(0.5, 1.0, 'ADDRTYPE')"
      ]
     },
     "execution_count": 18,
     "metadata": {},
     "output_type": "execute_result"
    },
    {
     "data": {
      "image/png": "[encoded data removed]",
      "text/plain": [
       "<Figure size 432x288 with 1 Axes>"
      ]
     },
     "metadata": {
      "needs_background": "light"
     },
     "output_type": "display_data"
    }
   ],
   "source": [
    "data2['ADDRTYPE'].value_counts().plot(kind='bar')\n",
    "plt.title(\"ADDRTYPE\")"
   ]
  },
  {
   "cell_type": "code",
   "execution_count": 19,
   "metadata": {},
   "outputs": [
    {
     "data": {
      "text/plain": [
       "Text(0.5, 1.0, 'INATTENTIONIND')"
      ]
     },
     "execution_count": 19,
     "metadata": {},
     "output_type": "execute_result"
    },
    {
     "data": {
      "image/png": "[encoded data removed]",
      "text/plain": [
       "<Figure size 432x288 with 1 Axes>"
      ]
     },
     "metadata": {
      "needs_background": "light"
     },
     "output_type": "display_data"
    }
   ],
   "source": [
    "data2['INATTENTIONIND'].value_counts().plot(kind='bar')\n",
    "plt.title(\"INATTENTIONIND\")"
   ]
  },
  {
   "cell_type": "code",
   "execution_count": 20,
   "metadata": {},
   "outputs": [
    {
     "data": {
      "text/plain": [
       "Text(0.5, 1.0, 'SPEEDING')"
      ]
     },
     "execution_count": 20,
     "metadata": {},
     "output_type": "execute_result"
    },
    {
     "data": {
      "image/png": "[encoded data removed]",
      "text/plain": [
       "<Figure size 432x288 with 1 Axes>"
      ]
     },
     "metadata": {
      "needs_background": "light"
     },
     "output_type": "display_data"
    }
   ],
   "source": [
    "data2['SPEEDING'].value_counts().plot(kind='bar')\n",
    "plt.title(\"SPEEDING\")"
   ]
  },
  {
   "cell_type": "code",
   "execution_count": 21,
   "metadata": {},
   "outputs": [
    {
     "data": {
      "text/plain": [
       "Text(0.5, 1.0, 'UNDERINFL')"
      ]
     },
     "execution_count": 21,
     "metadata": {},
     "output_type": "execute_result"
    },
    {
     "data": {
      "image/png": "[encoded data removed]",
      "text/plain": [
       "<Figure size 432x288 with 1 Axes>"
      ]
     },
     "metadata": {
      "needs_background": "light"
     },
     "output_type": "display_data"
    }
   ],
   "source": [
    "data2['UNDERINFL'].value_counts().plot(kind='bar')\n",
    "plt.title(\"UNDERINFL\")"
   ]
  },
  {
   "cell_type": "markdown",
   "metadata": {},
   "source": [
    "As we have seen, regarding the severity code, we are dealing with an unbalanced dataset. Most of the accidents entail only property damages. The proportion of accidents which entail physical damage is about 32%:"
   ]
  },
  {
   "cell_type": "code",
   "execution_count": 22,
   "metadata": {},
   "outputs": [
    {
     "data": {
      "text/plain": [
       "0.32817125266622155"
      ]
     },
     "execution_count": 22,
     "metadata": {},
     "output_type": "execute_result"
    }
   ],
   "source": [
    "data2[\"SEVERITYCODE\"].mean()"
   ]
  },
  {
   "cell_type": "markdown",
   "metadata": {},
   "source": [
    "We are ready to begin our analysis. We first set the random seed to 11 and then split the dataset into training and testing sets."
   ]
  },
  {
   "cell_type": "markdown",
   "metadata": {},
   "source": [
    "#### 3.2 Algorithms"
   ]
  },
  {
   "cell_type": "code",
   "execution_count": 23,
   "metadata": {},
   "outputs": [],
   "source": [
    "random.seed(11)\n",
    "x,y=data2[[\"ADDRTYPE\",\"WEATHER\",\"ROADCOND\",\"LIGHTCOND\",\"UNDERINFL\",\"SPEEDING\",\"INATTENTIONIND\"]],data2[[\"SEVERITYCODE\"]]\n",
    "x_train,x_test,y_train,y_test=train_test_split(x,y,train_size=0.8,test_size=0.2)"
   ]
  },
  {
   "cell_type": "markdown",
   "metadata": {},
   "source": [
    "Now, since the models we will train require dummy variables instead of categorical variables with multiple values as predictive features, we perform one-hot encoding in the predictive features of both training and testing sets."
   ]
  },
  {
   "cell_type": "code",
   "execution_count": 24,
   "metadata": {},
   "outputs": [],
   "source": [
    "x_train_ohd = pd.get_dummies(x_train,drop_first=True)\n",
    "x_test_ohd = pd.get_dummies(x_test,drop_first=True)"
   ]
  },
  {
   "cell_type": "markdown",
   "metadata": {},
   "source": [
    "#### Classification Tree Model"
   ]
  },
  {
   "cell_type": "markdown",
   "metadata": {},
   "source": [
    "We use the Decision Tree Classifier from the scikit-learn library to train a classification random tree model. The criterion chosen for the classifier is \"entropy\" and the max depth set to 6."
   ]
  },
  {
   "cell_type": "code",
   "execution_count": 25,
   "metadata": {},
   "outputs": [],
   "source": [
    "model_tree = DecisionTreeClassifier(criterion=\"entropy\", max_depth = 6)\n",
    "model_tree.fit(x_train_ohd, y_train)\n",
    "y_hat_tree = model_tree.predict(x_test_ohd)"
   ]
  },
  {
   "cell_type": "markdown",
   "metadata": {},
   "source": [
    "#### Logistic Regression"
   ]
  },
  {
   "cell_type": "markdown",
   "metadata": {},
   "source": [
    "We implement Logistic Regression from the scikit-learn library to train our Logistic Regression model. The C parameter used for regularization strength is set to 0.01, whereas the method for the solver is set to \"liblinear\"."
   ]
  },
  {
   "cell_type": "code",
   "execution_count": 26,
   "metadata": {},
   "outputs": [],
   "source": [
    "model_logreg = LogisticRegression(C=0.01, solver='liblinear')\n",
    "model_logreg.fit(x_train_ohd, y_train.values.ravel())\n",
    "y_hat_logreg = model_logreg.predict(x_test_ohd)"
   ]
  },
  {
   "cell_type": "markdown",
   "metadata": {},
   "source": [
    "#### K-Nearest Neighbors"
   ]
  },
  {
   "cell_type": "markdown",
   "metadata": {},
   "source": [
    "We use the K-Nearest Neighbor classifier from the scikit-learn library to train the K-Nearest Neighbor machine learning model. The optimal value of the number of neighbors used (k), when we try different tuning values up to 10 NN,  as shown below, is found at k=10."
   ]
  },
  {
   "cell_type": "code",
   "execution_count": 29,
   "metadata": {},
   "outputs": [
    {
     "name": "stdout",
     "output_type": "stream",
     "text": [
      "The optimal value for k is 8\n"
     ]
    },
    {
     "data": {
      "image/png": "[encoded data removed]",
      "text/plain": [
       "<Figure size 432x288 with 1 Axes>"
      ]
     },
     "metadata": {
      "needs_background": "light"
     },
     "output_type": "display_data"
    }
   ],
   "source": [
    "Ks=11\n",
    "accs=np.zeros((Ks-1))\n",
    "for n in range(1,Ks):\n",
    "    kNN_model = KNeighborsClassifier(n_neighbors=n).fit(x_train_ohd, y_train.values.ravel())\n",
    "    yhat = kNN_model.predict(x_test_ohd)\n",
    "    accs[n-1]=accuracy_score(y_test, yhat);\n",
    "    \n",
    "plt.plot(range(1,Ks),accs)\n",
    "plt.xlabel(\"k\")\n",
    "plt.ylabel(\"Accuracy\")\n",
    "k=accs.argmax()+1\n",
    "print(\"The optimal value for k is \" + str(k))"
   ]
  },
  {
   "cell_type": "code",
   "execution_count": 30,
   "metadata": {},
   "outputs": [],
   "source": [
    "model_KNN = KNeighborsClassifier(n_neighbors = k)\n",
    "model_KNN.fit(x_train_ohd, y_train.values.ravel())\n",
    "y_hat_KNN = model_KNN.predict(x_test_ohd)"
   ]
  },
  {
   "cell_type": "markdown",
   "metadata": {},
   "source": [
    "### 4. Results"
   ]
  },
  {
   "cell_type": "markdown",
   "metadata": {},
   "source": [
    "#### 4.1 Random Tree"
   ]
  },
  {
   "cell_type": "code",
   "execution_count": 31,
   "metadata": {},
   "outputs": [
    {
     "name": "stdout",
     "output_type": "stream",
     "text": [
      "              precision    recall  f1-score   support\n",
      "\n",
      "     class 0       0.67      1.00      0.80     22680\n",
      "     class 1       0.50      0.01      0.02     11170\n",
      "\n",
      "    accuracy                           0.67     33850\n",
      "   macro avg       0.58      0.50      0.41     33850\n",
      "weighted avg       0.61      0.67      0.54     33850\n",
      "\n"
     ]
    }
   ],
   "source": [
    "print(classification_report(y_test, y_hat_tree, target_names=['class 0', 'class 1']))"
   ]
  },
  {
   "cell_type": "markdown",
   "metadata": {},
   "source": [
    "#### 4.2 Logistic Regression"
   ]
  },
  {
   "cell_type": "code",
   "execution_count": 32,
   "metadata": {},
   "outputs": [
    {
     "name": "stdout",
     "output_type": "stream",
     "text": [
      "              precision    recall  f1-score   support\n",
      "\n",
      "     class 0       0.68      0.97      0.80     22680\n",
      "     class 1       0.46      0.05      0.10     11170\n",
      "\n",
      "    accuracy                           0.67     33850\n",
      "   macro avg       0.57      0.51      0.45     33850\n",
      "weighted avg       0.61      0.67      0.57     33850\n",
      "\n"
     ]
    }
   ],
   "source": [
    "print(classification_report(y_test, y_hat_logreg, target_names=['class 0', 'class 1']))"
   ]
  },
  {
   "cell_type": "markdown",
   "metadata": {},
   "source": [
    "#### 4.3 K-Nearest Neighbors"
   ]
  },
  {
   "cell_type": "code",
   "execution_count": 33,
   "metadata": {},
   "outputs": [
    {
     "name": "stdout",
     "output_type": "stream",
     "text": [
      "              precision    recall  f1-score   support\n",
      "\n",
      "     class 0       0.68      0.89      0.77     22680\n",
      "     class 1       0.37      0.14      0.20     11170\n",
      "\n",
      "    accuracy                           0.64     33850\n",
      "   macro avg       0.52      0.51      0.48     33850\n",
      "weighted avg       0.58      0.64      0.58     33850\n",
      "\n"
     ]
    }
   ],
   "source": [
    "print(classification_report(y_test, y_hat_KNN, target_names=['class 0', 'class 1'])) "
   ]
  },
  {
   "cell_type": "markdown",
   "metadata": {},
   "source": [
    "### 5. Discussion"
   ]
  },
  {
   "cell_type": "markdown",
   "metadata": {},
   "source": [
    "Precision is obtained by dividing true positives by the sum of true positive plus false positives. The recall is obtained by dividing true positives by true positive plus false negatives. f1-score is a measure of the accuracy of the model, which is the harmonic mean of the model’s precision and recall. We can see that in terms of overall accuracy, the model that gives the best results are both the random tree and logistic regression models, both with an accuracy score of 0.67. However, both the overall precision and the overall f1-score given by the KNN model is better than the one offered by any of the other two methods."
   ]
  },
  {
   "cell_type": "markdown",
   "metadata": {},
   "source": [
    "### 6. Conclusions"
   ]
  },
  {
   "cell_type": "markdown",
   "metadata": {},
   "source": [
    "We see that the trained models could have performed much better if various improvements were made. On the one hand, dealing with an unbalanced dataset regarding the target variables produces a biased model that is biased towards the higher prevalence of one of the groups. Balancing this dataset would be a huge improvement for our project. On the other hand, if we had fewer missing variables or unknown entries, our information regarding predictive features would be much richer. This is left as further research."
   ]
  }
 ],
 "metadata": {
  "kernelspec": {
   "display_name": "Python 3",
   "language": "python",
   "name": "python3"
  },
  "language_info": {
   "codemirror_mode": {
    "name": "ipython",
    "version": 3
   },
   "file_extension": ".py",
   "mimetype": "text/x-python",
   "name": "python",
   "nbconvert_exporter": "python",
   "pygments_lexer": "ipython3",
   "version": "3.8.3"
  }
 },
 "nbformat": 4,
 "nbformat_minor": 4
}
