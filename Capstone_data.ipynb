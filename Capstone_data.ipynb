{
 "cells": [
  {
   "cell_type": "markdown",
   "metadata": {},
   "source": [
    "#  IBM Data Science Capstone"
   ]
  },
  {
   "cell_type": "markdown",
   "metadata": {},
   "source": [
    "## Peio Alcorta"
   ]
  },
  {
   "cell_type": "markdown",
   "metadata": {},
   "source": [
    "### 2. Data"
   ]
  },
  {
   "cell_type": "markdown",
   "metadata": {},
   "source": [
    "#### 2.1 Data Understanding"
   ]
  },
  {
   "cell_type": "markdown",
   "metadata": {},
   "source": [
    "The dataset used for this project is based on car accidents which have taken place within the city of Seattle, Washington from the year 2004 to 2020. This data is regarding car accidents the severity of each car accidents along with the time and conditions under which each accident occurred. The data set used for this project can be downloaded from:  \n",
    "\n",
    "\n",
    "https://s3.us.cloud-object-storage.appdomain.cloud/cf-courses-data/CognitiveClass/DP0701EN/version-2/Data-Collisions.csv  \n",
    "\n",
    "The Metadata of the data can be found here:  \n",
    "\n",
    "https://s3.us.cloud-object-storage.appdomain.cloud/cf-courses-data/CognitiveClass/DP0701EN/version-2/Metadata.pdf  \n",
    "\n",
    "The original dataset contains 194,673 rows, one for each traffic accident, and 38 columns, which encode several aspects of each accident, such as, location, severity, weather condition...   \n",
    "\n",
    "The aim of this project is to develop a Machine Learning algorithm that predicts the severity of an accident. For that purpose, we will use the variable *SEVERITYCODE* which encodes the severity of the accident by giving value 1 if the accident entailed property damage only, and 2 if it entailed physical or health damage too.  \n",
    "\n",
    "\n"
   ]
  },
  {
   "cell_type": "markdown",
   "metadata": {},
   "source": [
    "#### 2.2 Data Preparation"
   ]
  },
  {
   "cell_type": "markdown",
   "metadata": {},
   "source": [
    "Appart from the severity code, a total of 6 variables (columns) are selected from the dataset. Apart from the severity code, a total of 6 variables (columns) are selected from the dataset. We restrict our attention to just those variables which we believe will have predictive power on the severity of the accident. These variables comprise both external conditions (weather, road, lighting), as well as human conditions (speed, drugs, inattention):  \n"
   ]
  },
  {
   "cell_type": "markdown",
   "metadata": {},
   "source": [
    "Variable | Description\n",
    "---------|------------\n",
    "WEATHER | Weather conditions (Overcast, Raining, Clear...)\n",
    "LIGHTCOND | Light conditions  (Dawn, Daylight, Dark...)\n",
    "ROADCOND | Road condition (Wet, Dry, Ice ...)\n",
    "INATTENTIONIND | The driver was inattentive (Yes/No/Unknown)\n",
    "SPEEDING | The car was above the speed limit (Yes/No/Unknown)\n",
    "UNDERINFL | The driver was under the influence (Yes/No/Unknown)  \n",
    "\n"
   ]
  },
  {
   "cell_type": "markdown",
   "metadata": {},
   "source": [
    "  \\\n",
    "  Originally, as we already mentioned, the variable SEVERITYCODE is encoded by giving value 1 if the accident entailed property damage only, and 2 if it entailed physical or health damage too.  For simplicity, we redefine it giving value 0 for no physical damage, and 1 if there are physical damages. We can see how this binary variable is distributed.  \n",
    "  \n",
    "  \n"
   ]
  },
  {
   "cell_type": "markdown",
   "metadata": {},
   "source": [
    "<img src=\"severity.png\" style= \"width:400px\" align=\"center\"/>"
   ]
  },
  {
   "cell_type": "markdown",
   "metadata": {},
   "source": [
    "Now we display the distribution of the variable UNDERINFL, which originally is encoded as Y or 1 if there is evidence that the driver was under the influence, and as N or 0 if not.  We again redefine it as 0 (if not under the influence), and as 1 (if under the influence).  \n",
    "\n"
   ]
  },
  {
   "cell_type": "markdown",
   "metadata": {},
   "source": [
    "<img src=\"influence.png\" style= \"width:400px\" align=\"center\"/>"
   ]
  },
  {
   "cell_type": "markdown",
   "metadata": {},
   "source": [
    "The variable SPEEDING, which originally is encoded as Y if there is evidence that the driver was driving above the speed limit, and as an empty cell if there is a lack of evidence.  We redefine it as 0 (if not evidence of speeding), and as 1 (if evidence of speeding).  \n"
   ]
  },
  {
   "cell_type": "markdown",
   "metadata": {},
   "source": [
    "<img src=\"speeding.png\" style= \"width:400px\" align=\"center\"/>"
   ]
  },
  {
   "cell_type": "markdown",
   "metadata": {},
   "source": [
    "The variable INATTENTIONIND, which originally is encoded as Y if there is evidence that the driver was not paying attention while driving, and as an empty cell if there is no such evidence.  We again redefine it as 0 (if not evidence of inattention), and as 1 (if evidence of inattention).  \n"
   ]
  },
  {
   "cell_type": "markdown",
   "metadata": {},
   "source": [
    "<img src=\"inattention.png\" style= \"width:400px\" align=\"center\"/>"
   ]
  },
  {
   "cell_type": "markdown",
   "metadata": {},
   "source": [
    "We show the distribution of the different weather, road, and lighting conditions during each accident.  \n"
   ]
  },
  {
   "cell_type": "markdown",
   "metadata": {},
   "source": [
    "<img src=\"road.png\" style= \"width:500px\" align=\"center\"/>"
   ]
  },
  {
   "cell_type": "markdown",
   "metadata": {},
   "source": [
    "<img src=\"weather.png\" style= \"width:500px\" align=\"center\"/>"
   ]
  },
  {
   "cell_type": "markdown",
   "metadata": {},
   "source": [
    "<img src=\"lighting.png\" style= \"width:500px\" align=\"center\"/>"
   ]
  }
 ],
 "metadata": {
  "kernelspec": {
   "display_name": "Python 3",
   "language": "python",
   "name": "python3"
  },
  "language_info": {
   "codemirror_mode": {
    "name": "ipython",
    "version": 3
   },
   "file_extension": ".py",
   "mimetype": "text/x-python",
   "name": "python",
   "nbconvert_exporter": "python",
   "pygments_lexer": "ipython3",
   "version": "3.8.3"
  }
 },
 "nbformat": 4,
 "nbformat_minor": 4
}
